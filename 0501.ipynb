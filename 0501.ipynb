{
  "nbformat": 4,
  "nbformat_minor": 0,
  "metadata": {
    "colab": {
      "provenance": [],
      "authorship_tag": "ABX9TyOG50LKUzxleqmFif4jg1mc",
      "include_colab_link": true
    },
    "kernelspec": {
      "name": "python3",
      "display_name": "Python 3"
    },
    "language_info": {
      "name": "python"
    }
  },
  "cells": [
    {
      "cell_type": "markdown",
      "metadata": {
        "id": "view-in-github",
        "colab_type": "text"
      },
      "source": [
        "<a href=\"https://colab.research.google.com/github/Joryao/Introduction-to-Computers/blob/main/0501.ipynb\" target=\"_parent\"><img src=\"https://colab.research.google.com/assets/colab-badge.svg\" alt=\"Open In Colab\"/></a>"
      ]
    },
    {
      "cell_type": "code",
      "execution_count": 13,
      "metadata": {
        "colab": {
          "base_uri": "https://localhost:8080/"
        },
        "id": "qpBJwlyaKwrp",
        "outputId": "9032261e-832d-4179-aa58-c520f4dbefd2"
      },
      "outputs": [
        {
          "output_type": "stream",
          "name": "stdout",
          "text": [
            "請輸入本金存款金額:10000\n",
            "6年後存款為:\n",
            "11261.62419264\n"
          ]
        }
      ],
      "source": [
        "test1 = int(input(\"請輸入本金存款金額:\"))\n",
        "i = 10000\n",
        "years = 1.02 ** 6\n",
        "i *= years\n",
        "i\n",
        "print(\"6年後存款為:\" )\n",
        "print(i)"
      ]
    },
    {
      "cell_type": "code",
      "source": [
        "print(\"Hello World\")"
      ],
      "metadata": {
        "colab": {
          "base_uri": "https://localhost:8080/"
        },
        "id": "8-S7Gz9nS8w5",
        "outputId": "6295eb5c-a2eb-44e5-f7f3-053555d3ceab"
      },
      "execution_count": 14,
      "outputs": [
        {
          "output_type": "stream",
          "name": "stdout",
          "text": [
            "Hello World\n"
          ]
        }
      ]
    },
    {
      "cell_type": "code",
      "source": [
        "n=int(input())\n",
        "sum=0\n",
        "for i in range(1,n+1):\n",
        "    sum=sum+i\n",
        "print(sum)"
      ],
      "metadata": {
        "colab": {
          "base_uri": "https://localhost:8080/"
        },
        "id": "LPEk_SdyaokS",
        "outputId": "8e8ea2f4-a326-410a-85d3-87a1e60beb07"
      },
      "execution_count": 30,
      "outputs": [
        {
          "output_type": "stream",
          "name": "stdout",
          "text": [
            "5\n",
            "15\n"
          ]
        }
      ]
    },
    {
      "cell_type": "code",
      "source": [
        "print(\"請輸入華氏c\")\n",
        "F = float(input())\n",
        "c = (F - 32) * 5 /9\n",
        "print(\"攝氏 = \",\"%.1f\" % c,\"度c\")"
      ],
      "metadata": {
        "colab": {
          "base_uri": "https://localhost:8080/"
        },
        "id": "go0MEQo_UOwq",
        "outputId": "68e82160-0ac1-471e-ab5e-f794566d196f"
      },
      "execution_count": 29,
      "outputs": [
        {
          "output_type": "stream",
          "name": "stdout",
          "text": [
            "請輸入華氏c\n",
            "100\n",
            "攝氏 =  37.8 度c\n"
          ]
        }
      ]
    }
  ]
}