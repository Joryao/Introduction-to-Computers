{
  "nbformat": 4,
  "nbformat_minor": 0,
  "metadata": {
    "colab": {
      "provenance": [],
      "authorship_tag": "ABX9TyPLHdWgRgdKRivZnIygSwI8",
      "include_colab_link": true
    },
    "kernelspec": {
      "name": "python3",
      "display_name": "Python 3"
    },
    "language_info": {
      "name": "python"
    }
  },
  "cells": [
    {
      "cell_type": "markdown",
      "metadata": {
        "id": "view-in-github",
        "colab_type": "text"
      },
      "source": [
        "<a href=\"https://colab.research.google.com/github/Joryao/Introduction-to-Computers/blob/main/0515.ipynb\" target=\"_parent\"><img src=\"https://colab.research.google.com/assets/colab-badge.svg\" alt=\"Open In Colab\"/></a>"
      ]
    },
    {
      "cell_type": "code",
      "execution_count": null,
      "metadata": {
        "colab": {
          "base_uri": "https://localhost:8080/"
        },
        "id": "4Aj72sJwPELj",
        "outputId": "6183206b-b00a-4497-b6ca-b9d2edc5f150"
      },
      "outputs": [
        {
          "output_type": "stream",
          "name": "stdout",
          "text": [
            "0515\n"
          ]
        }
      ],
      "source": [
        "print(\"0515\")"
      ]
    },
    {
      "cell_type": "code",
      "source": [
        "rain = str(input(\"今天會下雨嗎?\"))\n",
        "if(rain ==\"Y\" or rain ==\"y\"):\n",
        "  print(\"出門記得帶傘!\")\n",
        "elif(rain == \"N\" or rain == \"n\"):\n",
        "  print('出門季的帶傘!')\n",
        "else:\n",
        "  print(\"請重新輸入!\")"
      ],
      "metadata": {
        "colab": {
          "base_uri": "https://localhost:8080/"
        },
        "id": "wntBvKD2TG58",
        "outputId": "c5422941-0899-4e33-f881-ddba4d25596d"
      },
      "execution_count": null,
      "outputs": [
        {
          "output_type": "stream",
          "name": "stdout",
          "text": [
            "今天會下雨嗎?k'\n",
            "請重新輸入!\n"
          ]
        }
      ]
    },
    {
      "cell_type": "code",
      "source": [
        "body = float(input(\"體溫:\"))\n",
        "if body >= 37.5:\n",
        "  print(\"體溫過高!\")\n",
        "elif body >= 37:\n",
        "  print(\"體溫略高!\")\n",
        "elif body >= 34:\n",
        "  print(\"體溫正常!\")\n",
        "else:\n",
        "  print(\"體溫異常，請重新測量!\")\n"
      ],
      "metadata": {
        "colab": {
          "base_uri": "https://localhost:8080/"
        },
        "id": "q-HzElxVQuOd",
        "outputId": "c12eddb0-ba11-4c59-9c3f-e6b0648d956f"
      },
      "execution_count": null,
      "outputs": [
        {
          "output_type": "stream",
          "name": "stdout",
          "text": [
            "體溫:36\n",
            "體溫正常!\n"
          ]
        }
      ]
    },
    {
      "cell_type": "code",
      "source": [
        "score = float(input(\"請輸入成績\"))\n",
        "if score >= 90:\n",
        "  print(\"A\")\n",
        "elif score >= 80:\n",
        "  print(\"B\")\n",
        "elif score >= 70:\n",
        "  print(\"C\")\n",
        "elif score >= 60:\n",
        "  print(\"D\")\n",
        "else:\n",
        "  print(\"E\")\n"
      ],
      "metadata": {
        "colab": {
          "base_uri": "https://localhost:8080/"
        },
        "id": "axIsJpfqfYHQ",
        "outputId": "15811872-21b7-43ab-ca9b-b60fbdaa36f8"
      },
      "execution_count": null,
      "outputs": [
        {
          "output_type": "stream",
          "name": "stdout",
          "text": [
            "請輸入成績75\n",
            "C\n"
          ]
        }
      ]
    },
    {
      "cell_type": "code",
      "source": [
        "month = int(input(\"請輸入月份\"))\n",
        "if(int(month) <= 3):\n",
        "  print(str(month) + \"月是春天!\")\n",
        "elif(int(month) <= 6):\n",
        "  print(str(month) + \"月是夏天!\")\n",
        "elif(int(month) <= 9):\n",
        "  print(str(month) + \"月是秋天!\")  \n",
        "elif(int(month) <= 12):\n",
        "  print(str(month) + \"月是冬天!\")\n",
        "else:\n",
        "  print(str(month) + \"月份不在範圍內!\")\n",
        "\n",
        "\n",
        "\n",
        "\n",
        "\n",
        "\n",
        "\n",
        "\n",
        "\n"
      ],
      "metadata": {
        "id": "zd1XXIsvg26U",
        "colab": {
          "base_uri": "https://localhost:8080/"
        },
        "outputId": "d157c832-6b04-4c3c-9619-1626e12b87fa"
      },
      "execution_count": null,
      "outputs": [
        {
          "output_type": "stream",
          "name": "stdout",
          "text": [
            "請輸入月份6\n",
            "6月是夏天!\n"
          ]
        }
      ]
    },
    {
      "cell_type": "code",
      "source": [
        "money = int(input(\"請輸入今年收入淨額:\"))\n",
        "if money >= 2000000:\n",
        "  print(\"賦稅金額\" + str(money*0.3) )\n",
        "elif money >= 1000000:\n",
        "  print(\"賦稅金額\" + str(money*0.21) )\n",
        "elif money >= 600000:\n",
        "  print(\"賦稅金額\" + str(money*0.13) )\n",
        "elif money >= 300000:\n",
        "  print(\"賦稅金額\" + str(money*0.06) )\n",
        "else:\n",
        "  print(\"請重新輸入\")\n"
      ],
      "metadata": {
        "colab": {
          "base_uri": "https://localhost:8080/"
        },
        "id": "Xp5xskxd8stZ",
        "outputId": "3fd607aa-897e-436c-cc86-c1bea1cd65ed"
      },
      "execution_count": null,
      "outputs": [
        {
          "output_type": "stream",
          "name": "stdout",
          "text": [
            "請輸入今年收入淨額:1200000\n",
            "賦稅金額252000.0\n"
          ]
        }
      ]
    }
  ]
}